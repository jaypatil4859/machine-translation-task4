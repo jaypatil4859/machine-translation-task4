{
 "cells": [
  {
   "cell_type": "code",
   "execution_count": 1,
   "metadata": {},
   "outputs": [],
   "source": [
    "import tensorflow as tf\n",
    "from tensorflow.keras.models import load_model\n",
    "from tensorflow.keras.preprocessing.text import Tokenizer\n",
    "from tensorflow.keras.preprocessing.sequence import pad_sequences\n",
    "import json"
   ]
  },
  {
   "cell_type": "code",
   "execution_count": 2,
   "metadata": {},
   "outputs": [],
   "source": [
    "\n",
    "\n",
    "def load_translations(french_file, tamil_file):\n",
    "    with open(french_file, 'r', encoding='utf-8') as file:\n",
    "        french_sentences = file.read().strip().split('\\n')\n",
    "    with open(tamil_file, 'r', encoding='utf-8') as file:\n",
    "        tamil_sentences = file.read().strip().split('\\n')\n",
    "    return dict(zip(french_sentences, tamil_sentences))\n",
    "\n",
    "def suggest_similar_words(word, word_list):\n",
    "    from difflib import get_close_matches\n",
    "    return get_close_matches(word, word_list)\n",
    "\n",
    "def translate_to_tamil(sentence, french_to_tamil, french_sentences, wrong_words):\n",
    "    tamil_translation = french_to_tamil.get(sentence)\n",
    "    if tamil_translation:\n",
    "        print(f\"French Word: {sentence}\")\n",
    "        print(f\"Tamil Translation --> {tamil_translation}\")\n",
    "    else:\n",
    "        print(\"Translation not found.\")\n",
    "        suggestions = suggest_similar_words(sentence, french_sentences)\n",
    "        print(f\"Suggestions: {suggestions}\")\n",
    "        wrong_words.append(sentence)\n",
    "        if len(wrong_words) > 1:\n",
    "            print(f\"Wrong words so far: {wrong_words}\")"
   ]
  },
  {
   "cell_type": "code",
   "execution_count": 3,
   "metadata": {},
   "outputs": [],
   "source": [
    "\n",
    "\n",
    "def create_tokenizer_and_vocab(sentences, file_path_prefix):\n",
    "    tokenizer = Tokenizer()\n",
    "    tokenizer.fit_on_texts(sentences)\n",
    "    with open(f\"{file_path_prefix}_tokenizer.json\", 'w', encoding='utf-8') as f:\n",
    "        f.write(json.dumps(tokenizer.to_json(), ensure_ascii=False))\n",
    "    vocab = tokenizer.word_index\n",
    "    with open(f\"{file_path_prefix}_vocab.json\", 'w', encoding='utf-8') as f:\n",
    "        f.write(json.dumps(vocab, ensure_ascii=False))\n",
    "    return tokenizer, vocab\n",
    "\n",
    "def create_tensorflow_model(french_sentences, tamil_sentences):\n",
    "    french_tokenizer, french_vocab = create_tokenizer_and_vocab(french_sentences, \"french\")\n",
    "    tamil_tokenizer, tamil_vocab = create_tokenizer_and_vocab(tamil_sentences, \"tamil\")\n",
    "    french_sequences = french_tokenizer.texts_to_sequences(french_sentences)\n",
    "    tamil_sequences = tamil_tokenizer.texts_to_sequences(tamil_sentences)\n",
    "    max_sequence_length = max(max(len(seq) for seq in french_sequences), max(len(seq) for seq in tamil_sequences))\n",
    "    french_sequences = pad_sequences(french_sequences, maxlen=max_sequence_length, padding='post')\n",
    "    tamil_sequences = pad_sequences(tamil_sequences, maxlen=max_sequence_length, padding='post')\n",
    "    model = tf.keras.Sequential([\n",
    "        tf.keras.layers.Embedding(input_dim=len(french_vocab) + 1, output_dim=128, input_length=max_sequence_length),\n",
    "        tf.keras.layers.Bidirectional(tf.keras.layers.LSTM(64, return_sequences=True)),\n",
    "        tf.keras.layers.Bidirectional(tf.keras.layers.LSTM(64)),\n",
    "        tf.keras.layers.Dense(64, activation='relu'),\n",
    "        tf.keras.layers.Dense(len(tamil_vocab) + 1, activation='softmax')\n",
    "    ])\n",
    "    model.compile(optimizer='adam', loss='sparse_categorical_crossentropy', metrics=['accuracy'])\n",
    "    model.summary()\n",
    "    return model, french_sequences, tamil_sequences\n",
    "\n",
    "\n"
   ]
  },
  {
   "cell_type": "code",
   "execution_count": 4,
   "metadata": {},
   "outputs": [
    {
     "name": "stdout",
     "output_type": "stream",
     "text": [
      "Model: \"sequential\"\n",
      "_________________________________________________________________\n",
      " Layer (type)                Output Shape              Param #   \n",
      "=================================================================\n",
      " embedding (Embedding)       (None, 7, 128)            1435520   \n",
      "                                                                 \n",
      " bidirectional (Bidirectiona  (None, 7, 128)           98816     \n",
      " l)                                                              \n",
      "                                                                 \n",
      " bidirectional_1 (Bidirectio  (None, 128)              98816     \n",
      " nal)                                                            \n",
      "                                                                 \n",
      " dense (Dense)               (None, 64)                8256      \n",
      "                                                                 \n",
      " dense_1 (Dense)             (None, 8541)              555165    \n",
      "                                                                 \n",
      "=================================================================\n",
      "Total params: 2,196,573\n",
      "Trainable params: 2,196,573\n",
      "Non-trainable params: 0\n",
      "_________________________________________________________________\n",
      "Model saved to french_to_tamil_model.h5\n",
      "Model loaded from french_to_tamil_model.h5\n",
      "French Word: maison\n",
      "Tamil Translation --> வீடு\n"
     ]
    }
   ],
   "source": [
    "# Save the model\n",
    "def save_model(model, model_file):\n",
    "    model.save(model_file)\n",
    "    print(f\"Model saved to {model_file}\")\n",
    "\n",
    "# Load the model\n",
    "def load_model_from_file(model_file):\n",
    "    model = load_model(model_file)\n",
    "    print(f\"Model loaded from {model_file}\")\n",
    "    return model\n",
    "\n",
    "# Usage example\n",
    "french_file = \"data4/french.txt\"\n",
    "tamil_file = \"data4/tamil.txt\"\n",
    "french_to_tamil = load_translations(french_file, tamil_file)\n",
    "french_sentences = list(french_to_tamil.keys())\n",
    "tamil_sentences = list(french_to_tamil.values())\n",
    "model, french_sequences, tamil_sequences = create_tensorflow_model(french_sentences, tamil_sentences)\n",
    "model_file = \"french_to_tamil_model.h5\"\n",
    "save_model(model, model_file)\n",
    "loaded_model = load_model_from_file(model_file)\n",
    "sentence = \"maison\"\n",
    "wrong_words = []\n",
    "translate_to_tamil(sentence, french_to_tamil, french_sentences, wrong_words)"
   ]
  }
 ],
 "metadata": {
  "kernelspec": {
   "display_name": "nullclass",
   "language": "python",
   "name": "python3"
  },
  "language_info": {
   "codemirror_mode": {
    "name": "ipython",
    "version": 3
   },
   "file_extension": ".py",
   "mimetype": "text/x-python",
   "name": "python",
   "nbconvert_exporter": "python",
   "pygments_lexer": "ipython3",
   "version": "3.9.20"
  }
 },
 "nbformat": 4,
 "nbformat_minor": 2
}
